{
 "cells": [
  {
   "cell_type": "code",
   "execution_count": 1,
   "metadata": {},
   "outputs": [],
   "source": [
    "#Importing the required python libraries\n",
    "import numpy as np\n",
    "import pandas as pd\n",
    "import math"
   ]
  },
  {
   "cell_type": "code",
   "execution_count": 2,
   "metadata": {},
   "outputs": [],
   "source": [
    "#Taking input from the csv in preferred format\n",
    "trainingData = pd.read_csv(\"D:\\ML_data_letter\\A_Z Handwritten Data\\A_Z Handwritten Data.csv\", header=None)\n",
    "trainingData = trainingData.to_numpy()"
   ]
  },
  {
   "cell_type": "code",
   "execution_count": 3,
   "metadata": {},
   "outputs": [],
   "source": [
    "#Scaling down the color scale values to a bin size of 16\n",
    "l = [1];\n",
    "for i in range(784):\n",
    "    l.append(16/256)\n",
    "l = np.array(l)\n",
    "trainingData = trainingData.astype('float64')\n",
    "trainingData*= l\n",
    "trainingData = trainingData.astype('int32')"
   ]
  },
  {
   "cell_type": "code",
   "execution_count": 4,
   "metadata": {},
   "outputs": [],
   "source": [
    "#Shuffling the training data set and splitting in the ratio of 1:9 as test and training\n",
    "x = trainingData\n",
    "np.random.shuffle(x)\n",
    "train,test = np.split(x,[int(0.9 * len(x))])\n",
    "#train = trainingData  \n",
    "A= train[train[:,0].argsort()]"
   ]
  },
  {
   "cell_type": "code",
   "execution_count": 5,
   "metadata": {},
   "outputs": [],
   "source": [
    "#Using a dictionary data type to store the key value pairs as labels and their frequency\n",
    "dic={}\n",
    "\n",
    "for i in A[:,0]:\n",
    "    if i in dic:\n",
    "        dic[i]+=1\n",
    "    else:\n",
    "        dic[i] = 1\n",
    "sum = 0\n",
    "for i in dic:\n",
    "    sum+=dic[i]\n",
    "\n",
    "#Defining an array containing the prior probabilities\n",
    "prob_arr = []\n",
    "for i in range(26):\n",
    "    prob_arr.append(dic[i]/sum)"
   ]
  },
  {
   "cell_type": "code",
   "execution_count": 6,
   "metadata": {},
   "outputs": [],
   "source": [
    "#Defining a 3d array to calculate conditional probabilities of the pixels\n",
    "arrayOfPixelProbGivenLabels = []\n",
    "a=0                #For determining the intial iteration from where the label starts\n",
    "b=dic[0]           #For determining the final iteration where the label ends\n",
    "for i in range(26):#iterating through all the labels\n",
    "    impArra=[]     #For storing the probabilities of 16 bins of 784 pixels for the ith label\n",
    "    for j in range(1,785):#iterating through all the pixels\n",
    "        Arra = []         #For storing the probability of the 16 bins for jth pixel of ith label\n",
    "        dt ={}            #For keeping the count of each bin for the jth pixel of ith label\n",
    "        for k in range(16):#iterating through all the bins\n",
    "                dt[k] = 0\n",
    "        for k in range(a,b):\n",
    "            dt[A[k][j]] += 1   #counting the occurence of the kth bin for jth pixel of the ith label\n",
    "            \n",
    "        for k in dt:\n",
    "            Arra.append((dt[k]+1)/(dic[i]+16))  #Smoothing\n",
    "        impArra.append(Arra)\n",
    "    arrayOfPixelProbGivenLabels.append(impArra)\n",
    "    if i!=25:\n",
    "        a=b\n",
    "        b+=dic[i+1]\n",
    "tes = np.array(arrayOfPixelProbGivenLabels)"
   ]
  },
  {
   "cell_type": "code",
   "execution_count": 7,
   "metadata": {},
   "outputs": [],
   "source": [
    "#Storing the prior probabilities in a csv file \n",
    "file = open('trained_model1.csv', 'w')\n",
    "for i in range(len(prob_arr)):\n",
    "    prob_arr[i] = str(prob_arr[i])\n",
    "line = ','.join(prob_arr)\n",
    "file.write(line)\n",
    "file.close()"
   ]
  },
  {
   "cell_type": "code",
   "execution_count": 8,
   "metadata": {},
   "outputs": [],
   "source": [
    "#Storing the conditional probabilities of each bin in each pixel of each label in a csv file\n",
    "file = open('trained_model2.csv', 'w')\n",
    "for i in arrayOfPixelProbGivenLabels:\n",
    "    j = []\n",
    "    for k in range(len(i)):\n",
    "        for g in range(16):\n",
    "            j.append(str(i[k][g]))\n",
    "    line = ','.join(j)\n",
    "    file.write(line)\n",
    "    file.write('\\n')\n",
    "file.close()"
   ]
  },
  {
   "cell_type": "code",
   "execution_count": 9,
   "metadata": {},
   "outputs": [],
   "source": [
    "#Writing the shuffled test data into a csv file to use later\n",
    "file = open('test_model.csv', 'w')\n",
    "for i in test:\n",
    "    j = []\n",
    "    for k in range(len(i)):\n",
    "        j.append(str(i[k]))\n",
    "    line = ','.join(j)\n",
    "    file.write(line)\n",
    "    file.write('\\n')\n",
    "file.close()"
   ]
  },
  {
   "cell_type": "code",
   "execution_count": 10,
   "metadata": {},
   "outputs": [],
   "source": [
    "#Getting back all the data back from all the above just created csv files.\n",
    "trained_model = pd.read_csv(\"trained_model2.csv\", header=None)\n",
    "test_data = pd.read_csv(\"test_model.csv\", header=None)\n",
    "prob_arr = pd.read_csv(\"trained_model1.csv\",header=None)"
   ]
  },
  {
   "cell_type": "code",
   "execution_count": 11,
   "metadata": {},
   "outputs": [],
   "source": [
    "#Converting everything to np.array\n",
    "trained_model = trained_model.to_numpy()\n",
    "test_data = test_data.to_numpy()\n",
    "test_data = test_data\n",
    "trained_model = trained_model.reshape(26,784,16)\n",
    "prob_arr = prob_arr.to_numpy()"
   ]
  },
  {
   "cell_type": "code",
   "execution_count": 12,
   "metadata": {},
   "outputs": [
    {
     "name": "stdout",
     "output_type": "stream",
     "text": [
      "Accuracy is:  72.10975675240294\n"
     ]
    }
   ],
   "source": [
    "prob_arr=np.log(prob_arr) #Taking logarithms of probabilities to handel exceptionally small numbers\n",
    "count1=0 #for counting the no. of labels\n",
    "count2=0 #for counting the no. of correct predictions\n",
    "trained_model = np.log(trained_model) #Taking logarithms of probabilities to handel exceptionally small numbers\n",
    "for i in test_data:\n",
    "    count1+=1\n",
    "    label = i[0] #The actual label\n",
    "    numar=[] #for storing the final estimated probabilities of each label\n",
    "    for j in range(26):\n",
    "        st = trained_model[j]\n",
    "        #sn is the sum of logs\n",
    "        sn = 0\n",
    "        for k in range(1,785):\n",
    "            sn+=st[(k-1)][i[k]]\n",
    "        \n",
    "        sn+=prob_arr[0][j]\n",
    "        numar.append(sn)\n",
    "    maxnum = numar[0] # for storing maximum probability inside numar\n",
    "    index = 0; # for storing the label with maximum probability\n",
    "    for i in range(len(numar)):\n",
    "        if(numar[i]>maxnum):\n",
    "            maxnum = numar[i]\n",
    "            index = i\n",
    "    if index == label: #For counting accuracy\n",
    "        count2+=1\n",
    "print(\"Accuracy is: \",(count2/count1)*100)"
   ]
  }
 ],
 "metadata": {
  "kernelspec": {
   "display_name": "Python 3",
   "language": "python",
   "name": "python3"
  },
  "language_info": {
   "codemirror_mode": {
    "name": "ipython",
    "version": 3
   },
   "file_extension": ".py",
   "mimetype": "text/x-python",
   "name": "python",
   "nbconvert_exporter": "python",
   "pygments_lexer": "ipython3",
   "version": "3.11.4"
  }
 },
 "nbformat": 4,
 "nbformat_minor": 2
}
