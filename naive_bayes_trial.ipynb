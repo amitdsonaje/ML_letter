{
 "cells": [
  {
   "cell_type": "code",
   "execution_count": 18,
   "metadata": {},
   "outputs": [],
   "source": [
    "import numpy as np\n",
    "import matplotlib.pyplot as plt\n",
    "from sklearn.datasets import load_digits\n",
    "from sklearn.model_selection import train_test_split\n",
    "from sklearn.metrics import accuracy_score"
   ]
  },
  {
   "cell_type": "code",
   "execution_count": 38,
   "metadata": {},
   "outputs": [],
   "source": [
    "# Load the digits dataset\n",
    "digits = load_digits()\n",
    "X = digits.data\n",
    "y = digits.target\n",
    "num_classes = 10  # Replace with the actual number of classes\n",
    "\n",
    "\n",
    "# Split the dataset into training and testing sets\n",
    "X_train, X_test, y_train, y_test = train_test_split(X, y, test_size=0.2, random_state=42)"
   ]
  },
  {
   "cell_type": "code",
   "execution_count": 42,
   "metadata": {},
   "outputs": [],
   "source": [
    "class NaiveBayesClassifier:\n",
    "    def _init_(self):\n",
    "        self.class_prior_probabilities = None\n",
    "        self.likelihood_probabilities = None\n",
    "\n",
    "    def fit(self, X_train, y_train):\n",
    "        num_samples, num_features = X_train.shape\n",
    "        unique_classes, class_counts = np.unique(y_train, return_counts=True)\n",
    "        self.class_prior_probabilities = class_counts / num_samples\n",
    "        self.likelihood_probabilities = np.zeros((len(unique_classes), num_features, 16))\n",
    "        \n",
    "        for cls in unique_classes:\n",
    "            class_samples = X_train[y_train == cls]\n",
    "            for feature in range(num_features):\n",
    "                for value in range(16):\n",
    "                    self.likelihood_probabilities[cls, feature, value] = np.sum(class_samples[:, feature] == value) / len(class_samples)\n",
    "\n",
    "    def predict(self, X_test):\n",
    "        num_samples, num_features = X_test.shape\n",
    "        predictions = np.zeros(num_samples, dtype=int)\n",
    "        \n",
    "        for i in range(num_samples):\n",
    "            posterior_probabilities = np.zeros(len(self.class_prior_probabilities))\n",
    "            for cls in range(len(self.class_prior_probabilities)):\n",
    "                likelihood = 1\n",
    "                for feature in range(num_features):\n",
    "                    pixel_value = int(X_test[i, feature])\n",
    "                    pixel_value = max(0, min(15, pixel_value))  # Clip pixel value between 0 and 15\n",
    "                    likelihood *= self.likelihood_probabilities[cls, feature, pixel_value]\n",
    "                posterior_probabilities[cls] = self.class_prior_probabilities[cls] * likelihood\n",
    "            predictions[i] = np.argmax(posterior_probabilities)\n",
    "        \n",
    "        return predictions"
   ]
  },
  {
   "cell_type": "code",
   "execution_count": 43,
   "metadata": {},
   "outputs": [],
   "source": [
    "# Instantiate the classifier\n",
    "clf = NaiveBayesClassifier()\n",
    "\n",
    "# Train the classifier\n",
    "clf.fit(X_train, y_train)"
   ]
  },
  {
   "cell_type": "code",
   "execution_count": 44,
   "metadata": {},
   "outputs": [],
   "source": [
    "# Predict on test data\n",
    "y_pred = clf.predict(X_test)"
   ]
  },
  {
   "cell_type": "code",
   "execution_count": 45,
   "metadata": {},
   "outputs": [
    {
     "name": "stdout",
     "output_type": "stream",
     "text": [
      "Accuracy: 0.7027777777777777\n"
     ]
    }
   ],
   "source": [
    "# Calculate accuracy\n",
    "accuracy = accuracy_score(y_test, y_pred)\n",
    "print(\"Accuracy:\", accuracy)\n",
    "\n"
   ]
  },
  {
   "cell_type": "code",
   "execution_count": 49,
   "metadata": {},
   "outputs": [
    {
     "data": {
      "image/png": "[encoded data removed]",
      "text/plain": [
       "<Figure size 1000x800 with 10 Axes>"
      ]
     },
     "metadata": {},
     "output_type": "display_data"
    }
   ],
   "source": [
    "# Plot classifications\n",
    "plt.figure(figsize=(10, 8))\n",
    "for i in range(10):\n",
    "    plt.subplot(2, 5, i + 1)\n",
    "    plt.imshow(X_test[y_pred == i][0].reshape(8, 8), cmap=plt.cm.gray_r)\n",
    "    plt.title(f\"Predicted: {i}\")\n",
    "    plt.axis('off')\n",
    "\n",
    "plt.tight_layout()\n",
    "plt.show()"
   ]
  },
  {
   "cell_type": "code",
   "execution_count": null,
   "metadata": {},
   "outputs": [],
   "source": []
  }
 ],
 "metadata": {
  "kernelspec": {
   "display_name": "Python 3",
   "language": "python",
   "name": "python3"
  },
  "language_info": {
   "codemirror_mode": {
    "name": "ipython",
    "version": 3
   },
   "file_extension": ".py",
   "mimetype": "text/x-python",
   "name": "python",
   "nbconvert_exporter": "python",
   "pygments_lexer": "ipython3",
   "version": "3.11.4"
  },
  "orig_nbformat": 4
 },
 "nbformat": 4,
 "nbformat_minor": 2
}
